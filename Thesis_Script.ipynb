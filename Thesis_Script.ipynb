{
 "cells": [
  {
   "cell_type": "code",
   "execution_count": 1,
   "metadata": {
    "collapsed": true
   },
   "outputs": [],
   "source": [
    "#Import files\n",
    "import os\n",
    "import pandas as pd\n",
    "import numpy as np\n",
    "from sklearn.tree import DecisionTreeClassifier\n",
    "from sklearn.model_selection import train_test_split\n",
    "import random\n",
    "from sklearn.model_selection import cross_val_score,cross_val_predict\n",
    "from sklearn.svm import SVC\n",
    "from sklearn.ensemble import RandomForestClassifier\n",
    "from sklearn.linear_model import LogisticRegression\n",
    "from sklearn.tree import export_graphviz"
   ]
  },
  {
   "cell_type": "code",
   "execution_count": 2,
   "metadata": {},
   "outputs": [],
   "source": [
    "#the way the data is set up it connects bones to joints, so the shin is actually placed at the top of the shin where the knee is\n",
    "#below are static variables for names of the bones\n",
    "LEFT_KNEE = \"Ryan:LShin\"\n",
    "RIGHT_KNEE = \"Ryan:RShin\"\n",
    "LEFT_HIP = \"Ryan:LThigh\"\n",
    "RIGHT_HIP = \"Ryan:RThigh\"\n",
    "PELVIS = \"Ryan:Hip\"\n",
    "NECK = \"Ryan:Neck\"\n",
    "AB = \"Ryan:Ab\"\n",
    "CHEST = \"Ryan:Chest\"\n",
    "HEAD = \"Ryan:Head\"\n",
    "LEFT_SHOULDER = \"Ryan:LUArm\"\n",
    "RIGHT_SHOULDER = \"Ryan:RUArm\"\n",
    "LEFT_ELBOW = \"Ryan:LFArm\"\n",
    "RIGHT_ELBOW = \"Ryan:RFArm\"\n",
    "RIGHT_WRIST = \"Ryan:RHand\"\n",
    "LEFT_WRIST = \"Ryan:LHand\"\n",
    "RIGHT_ANKLE = \"Ryan:RFoot\"\n",
    "LEFT_ANKLE = \"Ryan:LFoot\"\n",
    "RIGHT_TOE = \"Ryan:RToe\"\n",
    "LEFT_TOE = \"Ryan:LToe\""
   ]
  },
  {
   "cell_type": "code",
   "execution_count": 3,
   "metadata": {
    "collapsed": true
   },
   "outputs": [],
   "source": [
    "#functional tools for thesis\n",
    "\n",
    "\n",
    "def angle(a,b,c):\n",
    "    \"\"\"\n",
    "    compute angle between 3 points in 3dim space\n",
    "    the reason we do a -> b and then c -> b is because of the directions we care about.\n",
    "    so standing straight up should be 180 degrees. If we do a -> b and b -> c, this angle\n",
    "    becomes zero.\n",
    "    \"\"\"\n",
    "    #due to weird jupyter notebook bug, must force these to be float64 because float32 is bugged.\n",
    "    a = np.asarray(a,dtype=np.float64)\n",
    "    b = np.asarray(b,dtype=np.float64)\n",
    "    c = np.asarray(c,dtype=np.float64)\n",
    "    ab = (a - b) / np.linalg.norm(a - b)\n",
    "    cb = (c - b) / np.linalg.norm(c - b)\n",
    "    theta = np.arccos(np.clip(np.dot(ab,cb),-1,1))\n",
    "    return np.degrees(theta)\n",
    "\n",
    "def alignment(a,b):\n",
    "    #function to check alignment of joints/bones\n",
    "    #the way this works is that only one axis (x,y or z) should yield different results\n",
    "    #for example, if my shoulders are aligned and I am facing the camera, the z and y axis should \n",
    "    #\thave the same value, but the x axis should yield differing value\n",
    "    #\thowever, if I am facing the side, the y axis and x axis will have the same value and the\n",
    "    #\tz axis will have a differing value.\n",
    "    #with this in mind, we look at which axis has the largest delta from each joint, and exclude\n",
    "    #\tthat from the computation because it can be assumed that delta is supposed to happen\n",
    "    #\tthen we take the sum of the delta of the other two axis for the result\n",
    "    #one of the other two axes should almost always be zero, and perfect alignment would have both \n",
    "    #\tas zero. \n",
    "    difference = abs(a - b)\n",
    "    max_index = np.argmax(difference)\n",
    "    difference[max_index] = 0\n",
    "    return np.sum(difference)\n",
    "\n",
    "def get_bone_location(frame,label_name):\n",
    "    #get the location in space of the bone in question\n",
    "    bone = frame['Bone'][label_name][\"Position\"]\n",
    "    bone_location = np.asarray([bone[\"X\"],bone[\"Y\"],bone[\"Z\"]],dtype=np.float32)\n",
    "    return bone_location\n",
    "\n",
    "def compute_jerk(series,dt):\n",
    "    #compute the jerk of a timeseries\n",
    "    series = np.asarray(series)\n",
    "    velocity = np.diff(series)\n",
    "    acceleration = np.diff(velocity)\n",
    "    jerk = np.diff(acceleration)\n",
    "    return jerk\n",
    "\n",
    "def create_data_matrix(filename):\n",
    "    #create the data matrix for the optitrack data file\n",
    "    with open(filename,\"r\") as f:\n",
    "        lines = f.readlines()\n",
    "        if len(lines) == 0:\n",
    "            print \"File Empty\"\n",
    "            return None\n",
    "        meta = lines[0].strip().split(\",\")\n",
    "        columns = [col.strip().split(\",\") for col in lines[2:7]]\n",
    "        markers = columns[0][2:]\n",
    "        labels = columns[1][2:]\n",
    "        numbers = columns[2][2:]\n",
    "        pos_bool = columns[3][2:]\n",
    "        series = columns[4][2:]\n",
    "        tuples = list(zip(markers,labels,pos_bool,series))\n",
    "        index = pd.MultiIndex.from_tuples(tuples,names=[\"Marker\",\"Label\",\"Position\",\"Columns\"])\n",
    "        matrix = np.asarray([line.strip().split(\",\") for line in lines[7:]])\n",
    "        frame_nums = matrix.T[0]\n",
    "        dt = np.diff(np.asarray(matrix.T[1],dtype=np.float64))\n",
    "        t = np.append([0],np.cumsum(dt))\n",
    "        data = np.asarray([row[2:] for row in matrix])\n",
    "    return frame_nums,dt,t,data,index\n"
   ]
  },
  {
   "cell_type": "code",
   "execution_count": 4,
   "metadata": {
    "collapsed": true
   },
   "outputs": [],
   "source": [
    "#get the csv files\n",
    "directory = \"CSV\"\n",
    "test = [x for x in os.walk(directory)]\n",
    "csv_files = [x for x in test[0][2] if x.endswith(\".csv\")]"
   ]
  },
  {
   "cell_type": "code",
   "execution_count": 5,
   "metadata": {
    "collapsed": true
   },
   "outputs": [],
   "source": [
    "#create pandas dataframe with the labels\n",
    "dylan = pd.read_csv(\"Labels/dylan_labels.csv\",names=[\"filename\",\"d_label\"])\n",
    "dylan = dylan[~dylan.filename.str.contains(\"Lunge\")]\n",
    "dylan = dylan.set_index(\"filename\")\n",
    "trevor = pd.read_csv(\"Labels/trevor_labels.csv\",names=[\"filename\",\"t_label\"])\n",
    "trevor = trevor[~trevor.filename.str.contains(\"Lunge\")]\n",
    "trevor = trevor.set_index(\"filename\")"
   ]
  },
  {
   "cell_type": "code",
   "execution_count": 6,
   "metadata": {
    "collapsed": true
   },
   "outputs": [],
   "source": [
    "#remove all files where the personal trainers disagree\n",
    "df = trevor.join(dylan)\n",
    "df = df.loc[((df['t_label'] == 1) & (df['d_label'] == 1)) | ((df['t_label'] == -1) & (df['d_label'] == -1))]\n",
    "good_files = [(\"CSV/\" + x.split(\".\")[0] + \".csv\",df.loc[x]['t_label']) for x in df.index]"
   ]
  },
  {
   "cell_type": "code",
   "execution_count": null,
   "metadata": {
    "scrolled": true
   },
   "outputs": [],
   "source": [
    "#initialize feature and label vector\n",
    "import numpy as np\n",
    "X = []\n",
    "Y = []\n",
    "for f,label in good_files:\n",
    "    #generate data matrix\n",
    "    frame_nums,dt,t,data,index = create_data_matrix(f)\n",
    "    #initialize timeseries arrays\n",
    "    Lknee_angles = []\n",
    "    Rknee_angles = []\n",
    "    hip_y_axis = []\n",
    "    shoulder_align = []\n",
    "    hip_align = []\n",
    "    #create timeseries data for the features\n",
    "    for row in data:\n",
    "        frame = pd.Series(row,index=index)\n",
    "        Rankle = get_bone_location(frame,RIGHT_ANKLE)\n",
    "        Rknee = get_bone_location(frame,RIGHT_KNEE)\n",
    "        Rhip = get_bone_location(frame,RIGHT_HIP)\n",
    "        Rknee_angle = angle(Rankle,Rknee,Rhip)\n",
    "        Lankle = get_bone_location(frame,LEFT_ANKLE)\n",
    "        Lknee = get_bone_location(frame,LEFT_KNEE)\n",
    "        Lhip = get_bone_location(frame,LEFT_HIP)\n",
    "        Lknee_angle = angle(Lankle,Lknee,Lhip)\n",
    "        Lknee_angles.append(Lknee_angle)\n",
    "        Rknee_angles.append(Rknee_angle)\n",
    "        pelvis = get_bone_location(frame,PELVIS)\n",
    "        Lshoulder = get_bone_location(frame,LEFT_SHOULDER)\n",
    "        Rshoulder = get_bone_location(frame,RIGHT_SHOULDER)\n",
    "        shoulder_align.append(alignment(Lshoulder,Rshoulder))\n",
    "        hip_align.append(alignment(Lhip,Rhip))\n",
    "        hip_y_axis.append(pelvis[1])\n",
    "    #calculate the features extracted for the squat\n",
    "    #print Lknee_angles\n",
    "    lowest_hip_point = hip_y_axis.index(min(hip_y_axis))\n",
    "    Lknee_climax = Lknee_angles[lowest_hip_point]\n",
    "    Lknee_max_jolt = max(compute_jerk(Lknee_angles,dt))\n",
    "    Rknee_climax = Rknee_angles[lowest_hip_point]\n",
    "    Rknee_max_jolt = max(compute_jerk(Rknee_angles,dt))\n",
    "    hip_alignment_metric = np.sum(hip_align)/float(t[-1])\n",
    "    shoulder_alignment_metric = np.sum(shoulder_align)/float(t[-1])\n",
    "    knee_metric = np.mean([abs(x[0] - x[1]) for x in zip(Lknee_angles,Rknee_angles)])\n",
    "    features = [Lknee_climax,Rknee_climax,Lknee_max_jolt,Rknee_max_jolt,knee_metric,hip_alignment_metric,shoulder_alignment_metric]\n",
    "    X.append(features)\n",
    "    Y.append(label)"
   ]
  },
  {
   "cell_type": "code",
   "execution_count": null,
   "metadata": {
    "scrolled": false
   },
   "outputs": [
    {
     "name": "stderr",
     "output_type": "stream",
     "text": [
      "/Users/ryansaxe/anaconda2/lib/python2.7/site-packages/sklearn/model_selection/_split.py:605: Warning: The least populated class in y has only 9 members, which is too few. The minimum number of members in any class cannot be less than n_splits=10.\n",
      "  % (min_groups, self.n_splits)), Warning)\n"
     ]
    }
   ],
   "source": [
    "#initialize ML functions\n",
    "svm = SVC(gamma='auto')\n",
    "forest = RandomForestClassifier()\n",
    "tree = DecisionTreeClassifier()\n",
    "LR = LogisticRegression()\n",
    "#initialize arrays to hold cross validation results\n",
    "i = 0\n",
    "tree_res = []\n",
    "svm_res = []\n",
    "forest_res = []\n",
    "LR_res = []\n",
    "while i < 100:\n",
    "    tree_res.append(cross_val_score(tree,X,Y,cv=10))\n",
    "    svm_res.append(cross_val_score(svm,X,Y,cv=10))\n",
    "    forest_res.append(cross_val_score(forest,X,Y,cv=10))\n",
    "    LR_res.append(cross_val_score(LR,X,Y,cv=10))\n",
    "    i += 1\n",
    "#display average accuracy from 1o fold cross validation\n",
    "print \"CART average accuracy:\\t\\t\\t\",np.mean(tree_res)\n",
    "print \"SVM average accuracy:\\t\\t\\t\",np.mean(svm_res)\n",
    "print \"Random Forest average accuracy:\\t\\t\\t\",np.mean(forest_res)\n",
    "print \"Logistic Regression average accuracy:\\t\\t\\t\",np.mean(LR_res)"
   ]
  },
  {
   "cell_type": "code",
   "execution_count": null,
   "metadata": {},
   "outputs": [],
   "source": [
    "#get the confidence scores of svm and logistic regression\n",
    "\n",
    "svm = SVC(gamma='auto',probability=True)\n",
    "LR = LogisticRegression()\n",
    "\n",
    "i = 0\n",
    "svm_res = []\n",
    "LR_res = []\n",
    "while i < 100:\n",
    "    svm_res.append(cross_val_predict(svm,X,Y,cv=10,method='predict_proba'))\n",
    "    LR_res.append(cross_val_predict(LR,X,Y,cv=10,method='predict_proba'))\n",
    "    i+=1\n",
    "\n",
    "wrong_certainty = 0\n",
    "right_certainty = 0\n",
    "wrong_count = 0\n",
    "right_count = 0 \n",
    "\n",
    "for res in LR_res:\n",
    "    for i,pred in enumerate(res):\n",
    "        actual = Y[i]\n",
    "        if pred[0] > pred[1]:\n",
    "            val = -1\n",
    "        else:\n",
    "            val = 1\n",
    "        if actual == val:\n",
    "            right_count += 1\n",
    "            if val == 1:\n",
    "                right_certainty += pred[1]\n",
    "            else:\n",
    "                right_certainty += pred[0]\n",
    "        else:\n",
    "            wrong_count += 1\n",
    "            if val == 1:\n",
    "                wrong_certainty += pred[1]\n",
    "            else:\n",
    "                wrong_certainty += pred[0]\n",
    "\n",
    "print \"Logistic Regression Avg Confidence When Wrong:\",wrong_certainty/float(wrong_count)\n",
    "print \"Logistic Regression Avg Confidence When Right:\",right_certainty/float(right_count)\n",
    "\n",
    "wrong_certainty = 0\n",
    "right_certainty = 0\n",
    "wrong_count = 0\n",
    "right_count = 0 \n",
    "\n",
    "for res in svm_res:\n",
    "    for i,pred in enumerate(res):\n",
    "        actual = Y[i]\n",
    "        if pred[0] > pred[1]:\n",
    "            val = -1\n",
    "        else:\n",
    "            val = 1\n",
    "        if actual == val:\n",
    "            right_count += 1\n",
    "            if val == 1:\n",
    "                right_certainty += pred[1]\n",
    "            else:\n",
    "                right_certainty += pred[0]\n",
    "        else:\n",
    "            wrong_count += 1\n",
    "            if val == 1:\n",
    "                wrong_certainty += pred[1]\n",
    "            else:\n",
    "                wrong_certainty += pred[0]\n",
    "\n",
    "print \"SVM Avg Confidence When Wrong:\",wrong_certainty/float(wrong_count)\n",
    "print \"SVM Avg Confidence When Right:\",right_certainty/float(right_count)"
   ]
  },
  {
   "cell_type": "code",
   "execution_count": 261,
   "metadata": {},
   "outputs": [
    {
     "data": {
      "text/plain": [
       "0"
      ]
     },
     "execution_count": 261,
     "metadata": {},
     "output_type": "execute_result"
    }
   ],
   "source": [
    "#create the full tree image for display\n",
    "\n",
    "tree.fit(X,Y)\n",
    "\n",
    "name = \"tree.dot\"\n",
    "png = \"tree.png\"\n",
    "command =  \"dot -Tpng \" + name + \" -o \" + png\n",
    "export_graphviz(tree,out_file=name,feature_names=[\"Left Knee at Climax\",\"Right Knee at Climax\",\"Left Knee Max Jerk\",\"Right Knee Max Jerk\",\"Knee Symmetry Score\",\"Hip Alignment Score\",\"Shoulder Alignment Score\"])\n",
    "os.system(command)"
   ]
  },
  {
   "cell_type": "code",
   "execution_count": null,
   "metadata": {
    "collapsed": true
   },
   "outputs": [],
   "source": []
  },
  {
   "cell_type": "code",
   "execution_count": null,
   "metadata": {
    "collapsed": true
   },
   "outputs": [],
   "source": []
  },
  {
   "cell_type": "code",
   "execution_count": null,
   "metadata": {
    "collapsed": true
   },
   "outputs": [],
   "source": []
  }
 ],
 "metadata": {
  "kernelspec": {
   "display_name": "Python 2",
   "language": "python",
   "name": "python2"
  },
  "language_info": {
   "codemirror_mode": {
    "name": "ipython",
    "version": 2
   },
   "file_extension": ".py",
   "mimetype": "text/x-python",
   "name": "python",
   "nbconvert_exporter": "python",
   "pygments_lexer": "ipython2",
   "version": "2.7.3"
  }
 },
 "nbformat": 4,
 "nbformat_minor": 2
}
